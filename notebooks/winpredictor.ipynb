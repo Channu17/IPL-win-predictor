{
 "cells": [
  {
   "cell_type": "code",
   "execution_count": 1,
   "metadata": {},
   "outputs": [],
   "source": [
    "import pandas as pd\n",
    "import numpy as np\n",
    "import seaborn as sns\n",
    "import matplotlib.pyplot as plt\n",
    "import warnings\n",
    "warnings.filterwarnings(\"ignore\", category=UserWarning, module=\"matplotlib\" )"
   ]
  },
  {
   "cell_type": "code",
   "execution_count": 2,
   "metadata": {},
   "outputs": [
    {
     "data": {
      "text/html": [
       "<div>\n",
       "<style scoped>\n",
       "    .dataframe tbody tr th:only-of-type {\n",
       "        vertical-align: middle;\n",
       "    }\n",
       "\n",
       "    .dataframe tbody tr th {\n",
       "        vertical-align: top;\n",
       "    }\n",
       "\n",
       "    .dataframe thead th {\n",
       "        text-align: right;\n",
       "    }\n",
       "</style>\n",
       "<table border=\"1\" class=\"dataframe\">\n",
       "  <thead>\n",
       "    <tr style=\"text-align: right;\">\n",
       "      <th></th>\n",
       "      <th>id</th>\n",
       "      <th>season</th>\n",
       "      <th>city</th>\n",
       "      <th>date</th>\n",
       "      <th>match_type</th>\n",
       "      <th>player_of_match</th>\n",
       "      <th>venue</th>\n",
       "      <th>team1</th>\n",
       "      <th>team2</th>\n",
       "      <th>toss_winner</th>\n",
       "      <th>toss_decision</th>\n",
       "      <th>winner</th>\n",
       "      <th>result</th>\n",
       "      <th>result_margin</th>\n",
       "      <th>target_runs</th>\n",
       "      <th>target_overs</th>\n",
       "      <th>super_over</th>\n",
       "      <th>method</th>\n",
       "      <th>umpire1</th>\n",
       "      <th>umpire2</th>\n",
       "    </tr>\n",
       "  </thead>\n",
       "  <tbody>\n",
       "    <tr>\n",
       "      <th>0</th>\n",
       "      <td>335982</td>\n",
       "      <td>2007/08</td>\n",
       "      <td>Bangalore</td>\n",
       "      <td>2008-04-18</td>\n",
       "      <td>League</td>\n",
       "      <td>BB McCullum</td>\n",
       "      <td>M Chinnaswamy Stadium</td>\n",
       "      <td>Royal Challengers Bangalore</td>\n",
       "      <td>Kolkata Knight Riders</td>\n",
       "      <td>Royal Challengers Bangalore</td>\n",
       "      <td>field</td>\n",
       "      <td>Kolkata Knight Riders</td>\n",
       "      <td>runs</td>\n",
       "      <td>140.0</td>\n",
       "      <td>223.0</td>\n",
       "      <td>20.0</td>\n",
       "      <td>N</td>\n",
       "      <td>NaN</td>\n",
       "      <td>Asad Rauf</td>\n",
       "      <td>RE Koertzen</td>\n",
       "    </tr>\n",
       "    <tr>\n",
       "      <th>1</th>\n",
       "      <td>335983</td>\n",
       "      <td>2007/08</td>\n",
       "      <td>Chandigarh</td>\n",
       "      <td>2008-04-19</td>\n",
       "      <td>League</td>\n",
       "      <td>MEK Hussey</td>\n",
       "      <td>Punjab Cricket Association Stadium, Mohali</td>\n",
       "      <td>Kings XI Punjab</td>\n",
       "      <td>Chennai Super Kings</td>\n",
       "      <td>Chennai Super Kings</td>\n",
       "      <td>bat</td>\n",
       "      <td>Chennai Super Kings</td>\n",
       "      <td>runs</td>\n",
       "      <td>33.0</td>\n",
       "      <td>241.0</td>\n",
       "      <td>20.0</td>\n",
       "      <td>N</td>\n",
       "      <td>NaN</td>\n",
       "      <td>MR Benson</td>\n",
       "      <td>SL Shastri</td>\n",
       "    </tr>\n",
       "    <tr>\n",
       "      <th>2</th>\n",
       "      <td>335984</td>\n",
       "      <td>2007/08</td>\n",
       "      <td>Delhi</td>\n",
       "      <td>2008-04-19</td>\n",
       "      <td>League</td>\n",
       "      <td>MF Maharoof</td>\n",
       "      <td>Feroz Shah Kotla</td>\n",
       "      <td>Delhi Daredevils</td>\n",
       "      <td>Rajasthan Royals</td>\n",
       "      <td>Rajasthan Royals</td>\n",
       "      <td>bat</td>\n",
       "      <td>Delhi Daredevils</td>\n",
       "      <td>wickets</td>\n",
       "      <td>9.0</td>\n",
       "      <td>130.0</td>\n",
       "      <td>20.0</td>\n",
       "      <td>N</td>\n",
       "      <td>NaN</td>\n",
       "      <td>Aleem Dar</td>\n",
       "      <td>GA Pratapkumar</td>\n",
       "    </tr>\n",
       "    <tr>\n",
       "      <th>3</th>\n",
       "      <td>335985</td>\n",
       "      <td>2007/08</td>\n",
       "      <td>Mumbai</td>\n",
       "      <td>2008-04-20</td>\n",
       "      <td>League</td>\n",
       "      <td>MV Boucher</td>\n",
       "      <td>Wankhede Stadium</td>\n",
       "      <td>Mumbai Indians</td>\n",
       "      <td>Royal Challengers Bangalore</td>\n",
       "      <td>Mumbai Indians</td>\n",
       "      <td>bat</td>\n",
       "      <td>Royal Challengers Bangalore</td>\n",
       "      <td>wickets</td>\n",
       "      <td>5.0</td>\n",
       "      <td>166.0</td>\n",
       "      <td>20.0</td>\n",
       "      <td>N</td>\n",
       "      <td>NaN</td>\n",
       "      <td>SJ Davis</td>\n",
       "      <td>DJ Harper</td>\n",
       "    </tr>\n",
       "    <tr>\n",
       "      <th>4</th>\n",
       "      <td>335986</td>\n",
       "      <td>2007/08</td>\n",
       "      <td>Kolkata</td>\n",
       "      <td>2008-04-20</td>\n",
       "      <td>League</td>\n",
       "      <td>DJ Hussey</td>\n",
       "      <td>Eden Gardens</td>\n",
       "      <td>Kolkata Knight Riders</td>\n",
       "      <td>Deccan Chargers</td>\n",
       "      <td>Deccan Chargers</td>\n",
       "      <td>bat</td>\n",
       "      <td>Kolkata Knight Riders</td>\n",
       "      <td>wickets</td>\n",
       "      <td>5.0</td>\n",
       "      <td>111.0</td>\n",
       "      <td>20.0</td>\n",
       "      <td>N</td>\n",
       "      <td>NaN</td>\n",
       "      <td>BF Bowden</td>\n",
       "      <td>K Hariharan</td>\n",
       "    </tr>\n",
       "  </tbody>\n",
       "</table>\n",
       "</div>"
      ],
      "text/plain": [
       "       id   season        city        date match_type player_of_match  \\\n",
       "0  335982  2007/08   Bangalore  2008-04-18     League     BB McCullum   \n",
       "1  335983  2007/08  Chandigarh  2008-04-19     League      MEK Hussey   \n",
       "2  335984  2007/08       Delhi  2008-04-19     League     MF Maharoof   \n",
       "3  335985  2007/08      Mumbai  2008-04-20     League      MV Boucher   \n",
       "4  335986  2007/08     Kolkata  2008-04-20     League       DJ Hussey   \n",
       "\n",
       "                                        venue                        team1  \\\n",
       "0                       M Chinnaswamy Stadium  Royal Challengers Bangalore   \n",
       "1  Punjab Cricket Association Stadium, Mohali              Kings XI Punjab   \n",
       "2                            Feroz Shah Kotla             Delhi Daredevils   \n",
       "3                            Wankhede Stadium               Mumbai Indians   \n",
       "4                                Eden Gardens        Kolkata Knight Riders   \n",
       "\n",
       "                         team2                  toss_winner toss_decision  \\\n",
       "0        Kolkata Knight Riders  Royal Challengers Bangalore         field   \n",
       "1          Chennai Super Kings          Chennai Super Kings           bat   \n",
       "2             Rajasthan Royals             Rajasthan Royals           bat   \n",
       "3  Royal Challengers Bangalore               Mumbai Indians           bat   \n",
       "4              Deccan Chargers              Deccan Chargers           bat   \n",
       "\n",
       "                        winner   result  result_margin  target_runs  \\\n",
       "0        Kolkata Knight Riders     runs          140.0        223.0   \n",
       "1          Chennai Super Kings     runs           33.0        241.0   \n",
       "2             Delhi Daredevils  wickets            9.0        130.0   \n",
       "3  Royal Challengers Bangalore  wickets            5.0        166.0   \n",
       "4        Kolkata Knight Riders  wickets            5.0        111.0   \n",
       "\n",
       "   target_overs super_over method    umpire1         umpire2  \n",
       "0          20.0          N    NaN  Asad Rauf     RE Koertzen  \n",
       "1          20.0          N    NaN  MR Benson      SL Shastri  \n",
       "2          20.0          N    NaN  Aleem Dar  GA Pratapkumar  \n",
       "3          20.0          N    NaN   SJ Davis       DJ Harper  \n",
       "4          20.0          N    NaN  BF Bowden     K Hariharan  "
      ]
     },
     "execution_count": 2,
     "metadata": {},
     "output_type": "execute_result"
    }
   ],
   "source": [
    "ipl_data = pd.read_csv(\"../data/matches.csv\")\n",
    "ipl_data.head()"
   ]
  },
  {
   "cell_type": "code",
   "execution_count": 3,
   "metadata": {},
   "outputs": [],
   "source": [
    "## required data for prediction\n",
    "data = ipl_data[['city', 'match_type', 'venue', 'team1', 'team2', 'toss_winner', 'toss_decision', 'winner']]"
   ]
  },
  {
   "cell_type": "code",
   "execution_count": 4,
   "metadata": {},
   "outputs": [
    {
     "data": {
      "text/html": [
       "<div>\n",
       "<style scoped>\n",
       "    .dataframe tbody tr th:only-of-type {\n",
       "        vertical-align: middle;\n",
       "    }\n",
       "\n",
       "    .dataframe tbody tr th {\n",
       "        vertical-align: top;\n",
       "    }\n",
       "\n",
       "    .dataframe thead th {\n",
       "        text-align: right;\n",
       "    }\n",
       "</style>\n",
       "<table border=\"1\" class=\"dataframe\">\n",
       "  <thead>\n",
       "    <tr style=\"text-align: right;\">\n",
       "      <th></th>\n",
       "      <th>city</th>\n",
       "      <th>match_type</th>\n",
       "      <th>venue</th>\n",
       "      <th>team1</th>\n",
       "      <th>team2</th>\n",
       "      <th>toss_winner</th>\n",
       "      <th>toss_decision</th>\n",
       "      <th>winner</th>\n",
       "    </tr>\n",
       "  </thead>\n",
       "  <tbody>\n",
       "    <tr>\n",
       "      <th>0</th>\n",
       "      <td>Bangalore</td>\n",
       "      <td>League</td>\n",
       "      <td>M Chinnaswamy Stadium</td>\n",
       "      <td>Royal Challengers Bangalore</td>\n",
       "      <td>Kolkata Knight Riders</td>\n",
       "      <td>Royal Challengers Bangalore</td>\n",
       "      <td>field</td>\n",
       "      <td>Kolkata Knight Riders</td>\n",
       "    </tr>\n",
       "    <tr>\n",
       "      <th>1</th>\n",
       "      <td>Chandigarh</td>\n",
       "      <td>League</td>\n",
       "      <td>Punjab Cricket Association Stadium, Mohali</td>\n",
       "      <td>Kings XI Punjab</td>\n",
       "      <td>Chennai Super Kings</td>\n",
       "      <td>Chennai Super Kings</td>\n",
       "      <td>bat</td>\n",
       "      <td>Chennai Super Kings</td>\n",
       "    </tr>\n",
       "    <tr>\n",
       "      <th>2</th>\n",
       "      <td>Delhi</td>\n",
       "      <td>League</td>\n",
       "      <td>Feroz Shah Kotla</td>\n",
       "      <td>Delhi Daredevils</td>\n",
       "      <td>Rajasthan Royals</td>\n",
       "      <td>Rajasthan Royals</td>\n",
       "      <td>bat</td>\n",
       "      <td>Delhi Daredevils</td>\n",
       "    </tr>\n",
       "    <tr>\n",
       "      <th>3</th>\n",
       "      <td>Mumbai</td>\n",
       "      <td>League</td>\n",
       "      <td>Wankhede Stadium</td>\n",
       "      <td>Mumbai Indians</td>\n",
       "      <td>Royal Challengers Bangalore</td>\n",
       "      <td>Mumbai Indians</td>\n",
       "      <td>bat</td>\n",
       "      <td>Royal Challengers Bangalore</td>\n",
       "    </tr>\n",
       "    <tr>\n",
       "      <th>4</th>\n",
       "      <td>Kolkata</td>\n",
       "      <td>League</td>\n",
       "      <td>Eden Gardens</td>\n",
       "      <td>Kolkata Knight Riders</td>\n",
       "      <td>Deccan Chargers</td>\n",
       "      <td>Deccan Chargers</td>\n",
       "      <td>bat</td>\n",
       "      <td>Kolkata Knight Riders</td>\n",
       "    </tr>\n",
       "  </tbody>\n",
       "</table>\n",
       "</div>"
      ],
      "text/plain": [
       "         city match_type                                       venue  \\\n",
       "0   Bangalore     League                       M Chinnaswamy Stadium   \n",
       "1  Chandigarh     League  Punjab Cricket Association Stadium, Mohali   \n",
       "2       Delhi     League                            Feroz Shah Kotla   \n",
       "3      Mumbai     League                            Wankhede Stadium   \n",
       "4     Kolkata     League                                Eden Gardens   \n",
       "\n",
       "                         team1                        team2  \\\n",
       "0  Royal Challengers Bangalore        Kolkata Knight Riders   \n",
       "1              Kings XI Punjab          Chennai Super Kings   \n",
       "2             Delhi Daredevils             Rajasthan Royals   \n",
       "3               Mumbai Indians  Royal Challengers Bangalore   \n",
       "4        Kolkata Knight Riders              Deccan Chargers   \n",
       "\n",
       "                   toss_winner toss_decision                       winner  \n",
       "0  Royal Challengers Bangalore         field        Kolkata Knight Riders  \n",
       "1          Chennai Super Kings           bat          Chennai Super Kings  \n",
       "2             Rajasthan Royals           bat             Delhi Daredevils  \n",
       "3               Mumbai Indians           bat  Royal Challengers Bangalore  \n",
       "4              Deccan Chargers           bat        Kolkata Knight Riders  "
      ]
     },
     "execution_count": 4,
     "metadata": {},
     "output_type": "execute_result"
    }
   ],
   "source": [
    "data.head()"
   ]
  },
  {
   "cell_type": "code",
   "execution_count": 5,
   "metadata": {},
   "outputs": [
    {
     "name": "stdout",
     "output_type": "stream",
     "text": [
      "<class 'pandas.core.frame.DataFrame'>\n",
      "RangeIndex: 1095 entries, 0 to 1094\n",
      "Data columns (total 8 columns):\n",
      " #   Column         Non-Null Count  Dtype \n",
      "---  ------         --------------  ----- \n",
      " 0   city           1044 non-null   object\n",
      " 1   match_type     1095 non-null   object\n",
      " 2   venue          1095 non-null   object\n",
      " 3   team1          1095 non-null   object\n",
      " 4   team2          1095 non-null   object\n",
      " 5   toss_winner    1095 non-null   object\n",
      " 6   toss_decision  1095 non-null   object\n",
      " 7   winner         1090 non-null   object\n",
      "dtypes: object(8)\n",
      "memory usage: 68.6+ KB\n"
     ]
    }
   ],
   "source": [
    "data.info()"
   ]
  },
  {
   "cell_type": "code",
   "execution_count": 6,
   "metadata": {},
   "outputs": [
    {
     "data": {
      "text/plain": [
       "city             51\n",
       "match_type        0\n",
       "venue             0\n",
       "team1             0\n",
       "team2             0\n",
       "toss_winner       0\n",
       "toss_decision     0\n",
       "winner            5\n",
       "dtype: int64"
      ]
     },
     "execution_count": 6,
     "metadata": {},
     "output_type": "execute_result"
    }
   ],
   "source": [
    "data.isnull().sum()"
   ]
  },
  {
   "cell_type": "code",
   "execution_count": 7,
   "metadata": {},
   "outputs": [
    {
     "name": "stderr",
     "output_type": "stream",
     "text": [
      "C:\\Users\\Asus\\AppData\\Local\\Temp\\ipykernel_12268\\339833404.py:1: SettingWithCopyWarning: \n",
      "A value is trying to be set on a copy of a slice from a DataFrame\n",
      "\n",
      "See the caveats in the documentation: https://pandas.pydata.org/pandas-docs/stable/user_guide/indexing.html#returning-a-view-versus-a-copy\n",
      "  data.dropna(inplace = True)\n"
     ]
    }
   ],
   "source": [
    "data.dropna(inplace = True)"
   ]
  },
  {
   "cell_type": "code",
   "execution_count": 8,
   "metadata": {},
   "outputs": [
    {
     "data": {
      "text/plain": [
       "city             0\n",
       "match_type       0\n",
       "venue            0\n",
       "team1            0\n",
       "team2            0\n",
       "toss_winner      0\n",
       "toss_decision    0\n",
       "winner           0\n",
       "dtype: int64"
      ]
     },
     "execution_count": 8,
     "metadata": {},
     "output_type": "execute_result"
    }
   ],
   "source": [
    "data.isnull().sum()"
   ]
  },
  {
   "cell_type": "code",
   "execution_count": 9,
   "metadata": {},
   "outputs": [
    {
     "data": {
      "text/plain": [
       "city\n",
       "Mumbai            173\n",
       "Kolkata            93\n",
       "Delhi              89\n",
       "Chennai            85\n",
       "Hyderabad          77\n",
       "Bangalore          63\n",
       "Chandigarh         61\n",
       "Jaipur             57\n",
       "Pune               51\n",
       "Abu Dhabi          37\n",
       "Ahmedabad          36\n",
       "Bengaluru          28\n",
       "Visakhapatnam      15\n",
       "Durban             15\n",
       "Lucknow            13\n",
       "Dubai              13\n",
       "Dharamsala         13\n",
       "Centurion          12\n",
       "Rajkot             10\n",
       "Sharjah            10\n",
       "Navi Mumbai         9\n",
       "Indore              9\n",
       "Johannesburg        8\n",
       "Ranchi              7\n",
       "Cuttack             7\n",
       "Cape Town           7\n",
       "Port Elizabeth      7\n",
       "Raipur              6\n",
       "Kochi               5\n",
       "Mohali              5\n",
       "Kanpur              4\n",
       "East London         3\n",
       "Kimberley           3\n",
       "Nagpur              3\n",
       "Guwahati            3\n",
       "Bloemfontein        2\n",
       "Name: count, dtype: int64"
      ]
     },
     "execution_count": 9,
     "metadata": {},
     "output_type": "execute_result"
    }
   ],
   "source": [
    "data.city.value_counts()"
   ]
  },
  {
   "cell_type": "code",
   "execution_count": 10,
   "metadata": {},
   "outputs": [
    {
     "data": {
      "image/png": "[encoded data removed]",
      "text/plain": [
       "<Figure size 1000x600 with 1 Axes>"
      ]
     },
     "metadata": {},
     "output_type": "display_data"
    }
   ],
   "source": [
    "top_cities = data.city.value_counts().head(10)\n",
    "plt.figure(figsize=(10, 6))\n",
    "plt.bar(top_cities.index, top_cities.values)\n",
    "plt.xlabel('City')\n",
    "plt.ylabel('Number of Matches')\n",
    "plt.show()"
   ]
  },
  {
   "cell_type": "code",
   "execution_count": 11,
   "metadata": {},
   "outputs": [
    {
     "data": {
      "text/plain": [
       "team1\n",
       "Chennai Super Kings            124\n",
       "Royal Challengers Bangalore    123\n",
       "Mumbai Indians                 118\n",
       "Kolkata Knight Riders          116\n",
       "Rajasthan Royals                96\n",
       "Kings XI Punjab                 86\n",
       "Delhi Daredevils                82\n",
       "Sunrisers Hyderabad             80\n",
       "Deccan Chargers                 39\n",
       "Delhi Capitals                  32\n",
       "Punjab Kings                    31\n",
       "Pune Warriors                   23\n",
       "Lucknow Super Giants            22\n",
       "Gujarat Titans                  21\n",
       "Gujarat Lions                   16\n",
       "Royal Challengers Bengaluru      9\n",
       "Kochi Tuskers Kerala             7\n",
       "Rising Pune Supergiant           7\n",
       "Rising Pune Supergiants          7\n",
       "Name: count, dtype: int64"
      ]
     },
     "execution_count": 11,
     "metadata": {},
     "output_type": "execute_result"
    }
   ],
   "source": [
    "data['team1'].value_counts()"
   ]
  },
  {
   "cell_type": "code",
   "execution_count": 12,
   "metadata": {},
   "outputs": [
    {
     "name": "stderr",
     "output_type": "stream",
     "text": [
      "C:\\Users\\Asus\\AppData\\Local\\Temp\\ipykernel_12268\\2328570214.py:1: FutureWarning: A value is trying to be set on a copy of a DataFrame or Series through chained assignment using an inplace method.\n",
      "The behavior will change in pandas 3.0. This inplace method will never work because the intermediate object on which we are setting values always behaves as a copy.\n",
      "\n",
      "For example, when doing 'df[col].method(value, inplace=True)', try using 'df.method({col: value}, inplace=True)' or df[col] = df[col].method(value) instead, to perform the operation inplace on the original object.\n",
      "\n",
      "\n",
      "  data['team1'].replace({'Delhi Daredevils': 'Delhi Capitals','Royal Challengers Bangalore':'Royal Challengers Bengaluru','Kings XI Punjab':'Punjab Kings', 'Rising Pune Supergiant':'Lucknow Super Giants','Rising Pune Supergiants':'Lucknow Super Giants', 'Deccan Chargers':\"Sunrisers Hyderabad\", 'Gujarat Lions':'Gujarat Titans', 'Pune Warriors':'Rajasthan Royals'}, inplace=True)\n",
      "C:\\Users\\Asus\\AppData\\Local\\Temp\\ipykernel_12268\\2328570214.py:1: SettingWithCopyWarning: \n",
      "A value is trying to be set on a copy of a slice from a DataFrame\n",
      "\n",
      "See the caveats in the documentation: https://pandas.pydata.org/pandas-docs/stable/user_guide/indexing.html#returning-a-view-versus-a-copy\n",
      "  data['team1'].replace({'Delhi Daredevils': 'Delhi Capitals','Royal Challengers Bangalore':'Royal Challengers Bengaluru','Kings XI Punjab':'Punjab Kings', 'Rising Pune Supergiant':'Lucknow Super Giants','Rising Pune Supergiants':'Lucknow Super Giants', 'Deccan Chargers':\"Sunrisers Hyderabad\", 'Gujarat Lions':'Gujarat Titans', 'Pune Warriors':'Rajasthan Royals'}, inplace=True)\n"
     ]
    }
   ],
   "source": [
    "data['team1'].replace({'Delhi Daredevils': 'Delhi Capitals','Royal Challengers Bangalore':'Royal Challengers Bengaluru','Kings XI Punjab':'Punjab Kings', 'Rising Pune Supergiant':'Lucknow Super Giants','Rising Pune Supergiants':'Lucknow Super Giants', 'Deccan Chargers':\"Sunrisers Hyderabad\", 'Gujarat Lions':'Gujarat Titans', 'Pune Warriors':'Rajasthan Royals'}, inplace=True)"
   ]
  },
  {
   "cell_type": "code",
   "execution_count": 13,
   "metadata": {},
   "outputs": [
    {
     "data": {
      "text/plain": [
       "team1\n",
       "Royal Challengers Bengaluru    132\n",
       "Chennai Super Kings            124\n",
       "Sunrisers Hyderabad            119\n",
       "Rajasthan Royals               119\n",
       "Mumbai Indians                 118\n",
       "Punjab Kings                   117\n",
       "Kolkata Knight Riders          116\n",
       "Delhi Capitals                 114\n",
       "Gujarat Titans                  37\n",
       "Lucknow Super Giants            36\n",
       "Kochi Tuskers Kerala             7\n",
       "Name: count, dtype: int64"
      ]
     },
     "execution_count": 13,
     "metadata": {},
     "output_type": "execute_result"
    }
   ],
   "source": [
    "data['team1'].value_counts()"
   ]
  },
  {
   "cell_type": "code",
   "execution_count": 14,
   "metadata": {},
   "outputs": [
    {
     "data": {
      "text/plain": [
       "team2\n",
       "Mumbai Indians                 131\n",
       "Kolkata Knight Riders          127\n",
       "Rajasthan Royals               112\n",
       "Chennai Super Kings            100\n",
       "Royal Challengers Bangalore    100\n",
       "Kings XI Punjab                 91\n",
       "Sunrisers Hyderabad             87\n",
       "Delhi Daredevils                73\n",
       "Delhi Capitals                  47\n",
       "Deccan Chargers                 36\n",
       "Punjab Kings                    25\n",
       "Gujarat Titans                  24\n",
       "Pune Warriors                   22\n",
       "Lucknow Super Giants            21\n",
       "Gujarat Lions                   14\n",
       "Rising Pune Supergiant           9\n",
       "Kochi Tuskers Kerala             7\n",
       "Rising Pune Supergiants          7\n",
       "Royal Challengers Bengaluru      6\n",
       "Name: count, dtype: int64"
      ]
     },
     "execution_count": 14,
     "metadata": {},
     "output_type": "execute_result"
    }
   ],
   "source": [
    "data['team2'].value_counts()"
   ]
  },
  {
   "cell_type": "code",
   "execution_count": 15,
   "metadata": {},
   "outputs": [
    {
     "name": "stderr",
     "output_type": "stream",
     "text": [
      "C:\\Users\\Asus\\AppData\\Local\\Temp\\ipykernel_12268\\2805592579.py:1: FutureWarning: A value is trying to be set on a copy of a DataFrame or Series through chained assignment using an inplace method.\n",
      "The behavior will change in pandas 3.0. This inplace method will never work because the intermediate object on which we are setting values always behaves as a copy.\n",
      "\n",
      "For example, when doing 'df[col].method(value, inplace=True)', try using 'df.method({col: value}, inplace=True)' or df[col] = df[col].method(value) instead, to perform the operation inplace on the original object.\n",
      "\n",
      "\n",
      "  data['team2'].replace({'Delhi Daredevils': 'Delhi Capitals','Royal Challengers Bangalore':'Royal Challengers Bengaluru','Kings XI Punjab':'Punjab Kings', 'Rising Pune Supergiant':'Lucknow Super Giants','Rising Pune Supergiants':'Lucknow Super Giants', 'Deccan Chargers':\"Sunrisers Hyderabad\", 'Gujarat Lions':'Gujarat Titans', 'Pune Warriors':'Rajasthan Royals'}, inplace=True)\n",
      "C:\\Users\\Asus\\AppData\\Local\\Temp\\ipykernel_12268\\2805592579.py:1: SettingWithCopyWarning: \n",
      "A value is trying to be set on a copy of a slice from a DataFrame\n",
      "\n",
      "See the caveats in the documentation: https://pandas.pydata.org/pandas-docs/stable/user_guide/indexing.html#returning-a-view-versus-a-copy\n",
      "  data['team2'].replace({'Delhi Daredevils': 'Delhi Capitals','Royal Challengers Bangalore':'Royal Challengers Bengaluru','Kings XI Punjab':'Punjab Kings', 'Rising Pune Supergiant':'Lucknow Super Giants','Rising Pune Supergiants':'Lucknow Super Giants', 'Deccan Chargers':\"Sunrisers Hyderabad\", 'Gujarat Lions':'Gujarat Titans', 'Pune Warriors':'Rajasthan Royals'}, inplace=True)\n"
     ]
    }
   ],
   "source": [
    "data['team2'].replace({'Delhi Daredevils': 'Delhi Capitals','Royal Challengers Bangalore':'Royal Challengers Bengaluru','Kings XI Punjab':'Punjab Kings', 'Rising Pune Supergiant':'Lucknow Super Giants','Rising Pune Supergiants':'Lucknow Super Giants', 'Deccan Chargers':\"Sunrisers Hyderabad\", 'Gujarat Lions':'Gujarat Titans', 'Pune Warriors':'Rajasthan Royals'}, inplace=True)"
   ]
  },
  {
   "cell_type": "code",
   "execution_count": 16,
   "metadata": {},
   "outputs": [
    {
     "data": {
      "image/png": "[encoded data removed]",
      "text/plain": [
       "<Figure size 1000x600 with 1 Axes>"
      ]
     },
     "metadata": {},
     "output_type": "display_data"
    }
   ],
   "source": [
    "top_teams_team1 = data.team1.value_counts().head(10)\n",
    "plt.figure(figsize=(10,6))\n",
    "sns.barplot(x=top_teams_team1.index, y=top_teams_team1.values)\n",
    "plt.xlabel('teams')\n",
    "plt.ylabel('Number of Matches')\n",
    "plt.xticks(rotation=80)  \n",
    "plt.show()\n"
   ]
  },
  {
   "cell_type": "code",
   "execution_count": 17,
   "metadata": {},
   "outputs": [
    {
     "data": {
      "text/plain": [
       "toss_winner\n",
       "Mumbai Indians                 135\n",
       "Kolkata Knight Riders          120\n",
       "Chennai Super Kings            116\n",
       "Rajasthan Royals               112\n",
       "Royal Challengers Bangalore    103\n",
       "Kings XI Punjab                 80\n",
       "Delhi Daredevils                79\n",
       "Sunrisers Hyderabad             77\n",
       "Delhi Capitals                  45\n",
       "Deccan Chargers                 43\n",
       "Punjab Kings                    24\n",
       "Gujarat Titans                  22\n",
       "Pune Warriors                   20\n",
       "Lucknow Super Giants            19\n",
       "Gujarat Lions                   15\n",
       "Kochi Tuskers Kerala             8\n",
       "Royal Challengers Bengaluru      8\n",
       "Rising Pune Supergiants          7\n",
       "Rising Pune Supergiant           6\n",
       "Name: count, dtype: int64"
      ]
     },
     "execution_count": 17,
     "metadata": {},
     "output_type": "execute_result"
    }
   ],
   "source": [
    "data['toss_winner'].value_counts()"
   ]
  },
  {
   "cell_type": "code",
   "execution_count": 18,
   "metadata": {},
   "outputs": [
    {
     "name": "stderr",
     "output_type": "stream",
     "text": [
      "C:\\Users\\Asus\\AppData\\Local\\Temp\\ipykernel_12268\\2183908166.py:1: FutureWarning: A value is trying to be set on a copy of a DataFrame or Series through chained assignment using an inplace method.\n",
      "The behavior will change in pandas 3.0. This inplace method will never work because the intermediate object on which we are setting values always behaves as a copy.\n",
      "\n",
      "For example, when doing 'df[col].method(value, inplace=True)', try using 'df.method({col: value}, inplace=True)' or df[col] = df[col].method(value) instead, to perform the operation inplace on the original object.\n",
      "\n",
      "\n",
      "  data['toss_winner'].replace({'Delhi Daredevils': 'Delhi Capitals','Royal Challengers Bangalore':'Royal Challengers Bengaluru','Kings XI Punjab':'Punjab Kings', 'Rising Pune Supergiant':'Lucknow Super Giants','Rising Pune Supergiants':'Lucknow Super Giants', 'Deccan Chargers':\"Sunrisers Hyderabad\", 'Gujarat Lions':'Gujarat Titans', 'Pune Warriors':'Rajasthan Royals'}, inplace=True)\n",
      "C:\\Users\\Asus\\AppData\\Local\\Temp\\ipykernel_12268\\2183908166.py:1: SettingWithCopyWarning: \n",
      "A value is trying to be set on a copy of a slice from a DataFrame\n",
      "\n",
      "See the caveats in the documentation: https://pandas.pydata.org/pandas-docs/stable/user_guide/indexing.html#returning-a-view-versus-a-copy\n",
      "  data['toss_winner'].replace({'Delhi Daredevils': 'Delhi Capitals','Royal Challengers Bangalore':'Royal Challengers Bengaluru','Kings XI Punjab':'Punjab Kings', 'Rising Pune Supergiant':'Lucknow Super Giants','Rising Pune Supergiants':'Lucknow Super Giants', 'Deccan Chargers':\"Sunrisers Hyderabad\", 'Gujarat Lions':'Gujarat Titans', 'Pune Warriors':'Rajasthan Royals'}, inplace=True)\n"
     ]
    }
   ],
   "source": [
    "data['toss_winner'].replace({'Delhi Daredevils': 'Delhi Capitals','Royal Challengers Bangalore':'Royal Challengers Bengaluru','Kings XI Punjab':'Punjab Kings', 'Rising Pune Supergiant':'Lucknow Super Giants','Rising Pune Supergiants':'Lucknow Super Giants', 'Deccan Chargers':\"Sunrisers Hyderabad\", 'Gujarat Lions':'Gujarat Titans', 'Pune Warriors':'Rajasthan Royals'}, inplace=True)"
   ]
  },
  {
   "cell_type": "code",
   "execution_count": 19,
   "metadata": {},
   "outputs": [
    {
     "data": {
      "text/plain": [
       "toss_winner\n",
       "Mumbai Indians                 135\n",
       "Rajasthan Royals               132\n",
       "Delhi Capitals                 124\n",
       "Kolkata Knight Riders          120\n",
       "Sunrisers Hyderabad            120\n",
       "Chennai Super Kings            116\n",
       "Royal Challengers Bengaluru    111\n",
       "Punjab Kings                   104\n",
       "Gujarat Titans                  37\n",
       "Lucknow Super Giants            32\n",
       "Kochi Tuskers Kerala             8\n",
       "Name: count, dtype: int64"
      ]
     },
     "execution_count": 19,
     "metadata": {},
     "output_type": "execute_result"
    }
   ],
   "source": [
    "data['toss_winner'].value_counts()"
   ]
  },
  {
   "cell_type": "code",
   "execution_count": 20,
   "metadata": {},
   "outputs": [
    {
     "data": {
      "image/png": "[encoded data removed]",
      "text/plain": [
       "<Figure size 1000x600 with 1 Axes>"
      ]
     },
     "metadata": {},
     "output_type": "display_data"
    }
   ],
   "source": [
    "plt.figure(figsize=(10,6))  \n",
    "plt.title('Toss Winner Distribution')   \n",
    "plt.bar(data['toss_winner'].value_counts().index, data['toss_winner'].value_counts().values)\n",
    "plt.xlabel('Teams')\n",
    "plt.ylabel('Number of Matches')\n",
    "plt.xticks(rotation=80)\n",
    "plt.show()"
   ]
  },
  {
   "cell_type": "code",
   "execution_count": 21,
   "metadata": {},
   "outputs": [
    {
     "data": {
      "text/plain": [
       "toss_decision\n",
       "field    670\n",
       "bat      369\n",
       "Name: count, dtype: int64"
      ]
     },
     "execution_count": 21,
     "metadata": {},
     "output_type": "execute_result"
    }
   ],
   "source": [
    "data['toss_decision'].value_counts()"
   ]
  },
  {
   "cell_type": "code",
   "execution_count": 22,
   "metadata": {},
   "outputs": [
    {
     "data": {
      "image/png": "[encoded data removed]",
      "text/plain": [
       "<Figure size 400x500 with 1 Axes>"
      ]
     },
     "metadata": {},
     "output_type": "display_data"
    }
   ],
   "source": [
    "plt.figure(figsize=(4,5))\n",
    "plt.bar(data['toss_decision'].value_counts().index, data['toss_decision'].value_counts().values)\n",
    "plt.xlabel('Toss Decision')\n",
    "plt.ylabel('Number of Matches') \n",
    "plt.show()\n"
   ]
  },
  {
   "cell_type": "code",
   "execution_count": 23,
   "metadata": {},
   "outputs": [
    {
     "data": {
      "text/plain": [
       "winner\n",
       "Mumbai Indians                 139\n",
       "Chennai Super Kings            131\n",
       "Kolkata Knight Riders          128\n",
       "Rajasthan Royals               109\n",
       "Royal Challengers Bangalore    109\n",
       "Sunrisers Hyderabad             80\n",
       "Kings XI Punjab                 79\n",
       "Delhi Daredevils                65\n",
       "Delhi Capitals                  41\n",
       "Deccan Chargers                 29\n",
       "Gujarat Titans                  28\n",
       "Punjab Kings                    24\n",
       "Lucknow Super Giants            24\n",
       "Gujarat Lions                   13\n",
       "Pune Warriors                   12\n",
       "Rising Pune Supergiant          10\n",
       "Royal Challengers Bengaluru      7\n",
       "Kochi Tuskers Kerala             6\n",
       "Rising Pune Supergiants          5\n",
       "Name: count, dtype: int64"
      ]
     },
     "execution_count": 23,
     "metadata": {},
     "output_type": "execute_result"
    }
   ],
   "source": [
    "data['winner'].value_counts()"
   ]
  },
  {
   "cell_type": "code",
   "execution_count": 24,
   "metadata": {},
   "outputs": [
    {
     "name": "stderr",
     "output_type": "stream",
     "text": [
      "C:\\Users\\Asus\\AppData\\Local\\Temp\\ipykernel_12268\\1140483981.py:1: FutureWarning: A value is trying to be set on a copy of a DataFrame or Series through chained assignment using an inplace method.\n",
      "The behavior will change in pandas 3.0. This inplace method will never work because the intermediate object on which we are setting values always behaves as a copy.\n",
      "\n",
      "For example, when doing 'df[col].method(value, inplace=True)', try using 'df.method({col: value}, inplace=True)' or df[col] = df[col].method(value) instead, to perform the operation inplace on the original object.\n",
      "\n",
      "\n",
      "  data['winner'].replace({'Delhi Daredevils': 'Delhi Capitals','Royal Challengers Bangalore':'Royal Challengers Bengaluru','Kings XI Punjab':'Punjab Kings', 'Rising Pune Supergiant':'Lucknow Super Giants','Rising Pune Supergiants':'Lucknow Super Giants', 'Deccan Chargers':\"Sunrisers Hyderabad\", 'Gujarat Lions':'Gujarat Titans', 'Pune Warriors':'Rajasthan Royals'}, inplace=True)\n",
      "C:\\Users\\Asus\\AppData\\Local\\Temp\\ipykernel_12268\\1140483981.py:1: SettingWithCopyWarning: \n",
      "A value is trying to be set on a copy of a slice from a DataFrame\n",
      "\n",
      "See the caveats in the documentation: https://pandas.pydata.org/pandas-docs/stable/user_guide/indexing.html#returning-a-view-versus-a-copy\n",
      "  data['winner'].replace({'Delhi Daredevils': 'Delhi Capitals','Royal Challengers Bangalore':'Royal Challengers Bengaluru','Kings XI Punjab':'Punjab Kings', 'Rising Pune Supergiant':'Lucknow Super Giants','Rising Pune Supergiants':'Lucknow Super Giants', 'Deccan Chargers':\"Sunrisers Hyderabad\", 'Gujarat Lions':'Gujarat Titans', 'Pune Warriors':'Rajasthan Royals'}, inplace=True)\n"
     ]
    }
   ],
   "source": [
    "data['winner'].replace({'Delhi Daredevils': 'Delhi Capitals','Royal Challengers Bangalore':'Royal Challengers Bengaluru','Kings XI Punjab':'Punjab Kings', 'Rising Pune Supergiant':'Lucknow Super Giants','Rising Pune Supergiants':'Lucknow Super Giants', 'Deccan Chargers':\"Sunrisers Hyderabad\", 'Gujarat Lions':'Gujarat Titans', 'Pune Warriors':'Rajasthan Royals'}, inplace=True)"
   ]
  },
  {
   "cell_type": "code",
   "execution_count": 25,
   "metadata": {},
   "outputs": [
    {
     "data": {
      "text/plain": [
       "winner\n",
       "Mumbai Indians                 139\n",
       "Chennai Super Kings            131\n",
       "Kolkata Knight Riders          128\n",
       "Rajasthan Royals               121\n",
       "Royal Challengers Bengaluru    116\n",
       "Sunrisers Hyderabad            109\n",
       "Delhi Capitals                 106\n",
       "Punjab Kings                   103\n",
       "Gujarat Titans                  41\n",
       "Lucknow Super Giants            39\n",
       "Kochi Tuskers Kerala             6\n",
       "Name: count, dtype: int64"
      ]
     },
     "execution_count": 25,
     "metadata": {},
     "output_type": "execute_result"
    }
   ],
   "source": [
    "data['winner'].value_counts()"
   ]
  },
  {
   "cell_type": "code",
   "execution_count": 26,
   "metadata": {},
   "outputs": [
    {
     "data": {
      "image/png": "[encoded data removed]",
      "text/plain": [
       "<Figure size 640x480 with 1 Axes>"
      ]
     },
     "metadata": {},
     "output_type": "display_data"
    }
   ],
   "source": [
    "plt.bar(data['winner'].value_counts().index, data['winner'].value_counts().values)\n",
    "plt.xlabel('Teams')\n",
    "plt.ylabel('Number of Matches')\n",
    "plt.title('Winner Distribution')\n",
    "plt.xticks(rotation=80)\n",
    "plt.show()"
   ]
  },
  {
   "cell_type": "code",
   "execution_count": 27,
   "metadata": {},
   "outputs": [],
   "source": [
    "x = len(data['team1'].value_counts().index)\n",
    "width = 0.3"
   ]
  },
  {
   "cell_type": "code",
   "execution_count": 28,
   "metadata": {},
   "outputs": [
    {
     "data": {
      "image/png": "[encoded data removed]",
      "text/plain": [
       "<Figure size 1000x500 with 1 Axes>"
      ]
     },
     "metadata": {},
     "output_type": "display_data"
    }
   ],
   "source": [
    "toss_wins = data['toss_winner'].value_counts()\n",
    "match_wins = data['winner'].value_counts()\n",
    "\n",
    "\n",
    "teams = set(toss_wins.index).union(set(match_wins.index)) \n",
    "teams = sorted(teams)\n",
    "\n",
    "toss_wins = toss_wins.reindex(teams, fill_value=0)\n",
    "match_wins = match_wins.reindex(teams, fill_value=0)\n",
    "\n",
    "x = np.arange(len(teams))\n",
    "width = 0.3 \n",
    "\n",
    "# Plot bars\n",
    "plt.figure(figsize=(10, 5))\n",
    "plt.bar(x - width/2, toss_wins.values, width=width, label='Toss Winner', color='blue')\n",
    "plt.bar(x + width/2, match_wins.values, width=width, label='Match Winner', color='orange')\n",
    "\n",
    "# Formatting\n",
    "plt.xlabel('Teams')\n",
    "plt.ylabel('Number of Matches')\n",
    "plt.xticks(x, teams, rotation=80)  # Rotate labels for readability\n",
    "plt.title('Match and Toss Winner Distribution')\n",
    "plt.legend()  # Show legend\n",
    "plt.tight_layout()  # Adjust layout to prevent label overlap\n",
    "\n",
    "plt.show()\n"
   ]
  },
  {
   "cell_type": "code",
   "execution_count": 43,
   "metadata": {},
   "outputs": [
    {
     "data": {
      "text/plain": [
       "1039"
      ]
     },
     "execution_count": 43,
     "metadata": {},
     "output_type": "execute_result"
    }
   ],
   "source": [
    "data.shape[0]"
   ]
  },
  {
   "cell_type": "code",
   "execution_count": 50,
   "metadata": {},
   "outputs": [],
   "source": [
    "toss_and_match_winner = []\n",
    "for i in range(data.shape[0]):\n",
    "    if data['toss_winner'].iloc[i] == data['winner'].iloc[i]:\n",
    "        toss_and_match_winner.append(data['winner'].iloc[i])\n",
    "        \n"
   ]
  },
  {
   "cell_type": "code",
   "execution_count": null,
   "metadata": {},
   "outputs": [
    {
     "data": {
      "text/plain": [
       "['Chennai Super Kings',\n",
       " 'Rajasthan Royals',\n",
       " 'Rajasthan Royals',\n",
       " 'Sunrisers Hyderabad',\n",
       " 'Chennai Super Kings',\n",
       " 'Punjab Kings',\n",
       " 'Rajasthan Royals',\n",
       " 'Punjab Kings',\n",
       " 'Punjab Kings',\n",
       " 'Sunrisers Hyderabad',\n",
       " 'Mumbai Indians',\n",
       " 'Chennai Super Kings',\n",
       " 'Kolkata Knight Riders',\n",
       " 'Rajasthan Royals',\n",
       " 'Kolkata Knight Riders',\n",
       " 'Rajasthan Royals',\n",
       " 'Kolkata Knight Riders',\n",
       " 'Mumbai Indians',\n",
       " 'Mumbai Indians',\n",
       " 'Delhi Capitals',\n",
       " 'Rajasthan Royals',\n",
       " 'Royal Challengers Bengaluru',\n",
       " 'Punjab Kings',\n",
       " 'Delhi Capitals',\n",
       " 'Rajasthan Royals',\n",
       " 'Rajasthan Royals',\n",
       " 'Mumbai Indians',\n",
       " 'Rajasthan Royals',\n",
       " 'Royal Challengers Bengaluru',\n",
       " 'Delhi Capitals',\n",
       " 'Chennai Super Kings',\n",
       " 'Kolkata Knight Riders',\n",
       " 'Sunrisers Hyderabad',\n",
       " 'Delhi Capitals',\n",
       " 'Sunrisers Hyderabad',\n",
       " 'Punjab Kings',\n",
       " 'Sunrisers Hyderabad',\n",
       " 'Mumbai Indians',\n",
       " 'Punjab Kings',\n",
       " 'Delhi Capitals',\n",
       " 'Mumbai Indians',\n",
       " 'Royal Challengers Bengaluru',\n",
       " 'Chennai Super Kings',\n",
       " 'Sunrisers Hyderabad',\n",
       " 'Rajasthan Royals',\n",
       " 'Chennai Super Kings',\n",
       " 'Punjab Kings',\n",
       " 'Mumbai Indians',\n",
       " 'Delhi Capitals',\n",
       " 'Sunrisers Hyderabad',\n",
       " 'Royal Challengers Bengaluru',\n",
       " 'Rajasthan Royals',\n",
       " 'Punjab Kings',\n",
       " 'Sunrisers Hyderabad',\n",
       " 'Delhi Capitals',\n",
       " 'Kolkata Knight Riders',\n",
       " 'Chennai Super Kings',\n",
       " 'Delhi Capitals',\n",
       " 'Royal Challengers Bengaluru',\n",
       " 'Sunrisers Hyderabad',\n",
       " 'Royal Challengers Bengaluru',\n",
       " 'Mumbai Indians',\n",
       " 'Delhi Capitals',\n",
       " 'Kolkata Knight Riders',\n",
       " 'Sunrisers Hyderabad',\n",
       " 'Delhi Capitals',\n",
       " 'Chennai Super Kings',\n",
       " 'Royal Challengers Bengaluru',\n",
       " 'Rajasthan Royals',\n",
       " 'Sunrisers Hyderabad',\n",
       " 'Mumbai Indians',\n",
       " 'Kolkata Knight Riders',\n",
       " 'Rajasthan Royals',\n",
       " 'Delhi Capitals',\n",
       " 'Mumbai Indians',\n",
       " 'Delhi Capitals',\n",
       " 'Kolkata Knight Riders',\n",
       " 'Chennai Super Kings',\n",
       " 'Mumbai Indians',\n",
       " 'Delhi Capitals',\n",
       " 'Rajasthan Royals',\n",
       " 'Chennai Super Kings',\n",
       " 'Kolkata Knight Riders',\n",
       " 'Sunrisers Hyderabad',\n",
       " 'Royal Challengers Bengaluru',\n",
       " 'Mumbai Indians',\n",
       " 'Sunrisers Hyderabad',\n",
       " 'Chennai Super Kings',\n",
       " 'Sunrisers Hyderabad',\n",
       " 'Mumbai Indians',\n",
       " 'Chennai Super Kings',\n",
       " 'Chennai Super Kings',\n",
       " 'Chennai Super Kings',\n",
       " 'Rajasthan Royals',\n",
       " 'Kolkata Knight Riders',\n",
       " 'Mumbai Indians',\n",
       " 'Punjab Kings',\n",
       " 'Kolkata Knight Riders',\n",
       " 'Kochi Tuskers Kerala',\n",
       " 'Chennai Super Kings',\n",
       " 'Punjab Kings',\n",
       " 'Delhi Capitals',\n",
       " 'Kolkata Knight Riders',\n",
       " 'Kochi Tuskers Kerala',\n",
       " 'Sunrisers Hyderabad',\n",
       " 'Royal Challengers Bengaluru',\n",
       " 'Rajasthan Royals',\n",
       " 'Royal Challengers Bengaluru',\n",
       " 'Rajasthan Royals',\n",
       " 'Delhi Capitals',\n",
       " 'Kolkata Knight Riders',\n",
       " 'Rajasthan Royals',\n",
       " 'Chennai Super Kings',\n",
       " 'Kochi Tuskers Kerala',\n",
       " 'Delhi Capitals',\n",
       " 'Royal Challengers Bengaluru',\n",
       " 'Chennai Super Kings',\n",
       " 'Punjab Kings',\n",
       " 'Royal Challengers Bengaluru',\n",
       " 'Sunrisers Hyderabad',\n",
       " 'Kochi Tuskers Kerala',\n",
       " 'Sunrisers Hyderabad',\n",
       " 'Punjab Kings',\n",
       " 'Chennai Super Kings',\n",
       " 'Kolkata Knight Riders',\n",
       " 'Royal Challengers Bengaluru',\n",
       " 'Mumbai Indians',\n",
       " 'Chennai Super Kings',\n",
       " 'Mumbai Indians',\n",
       " 'Chennai Super Kings',\n",
       " 'Mumbai Indians',\n",
       " 'Delhi Capitals',\n",
       " 'Rajasthan Royals',\n",
       " 'Delhi Capitals',\n",
       " 'Punjab Kings',\n",
       " 'Rajasthan Royals',\n",
       " 'Delhi Capitals',\n",
       " 'Royal Challengers Bengaluru',\n",
       " 'Kolkata Knight Riders',\n",
       " 'Sunrisers Hyderabad',\n",
       " 'Punjab Kings',\n",
       " 'Kolkata Knight Riders',\n",
       " 'Delhi Capitals',\n",
       " 'Mumbai Indians',\n",
       " 'Sunrisers Hyderabad',\n",
       " 'Punjab Kings',\n",
       " 'Mumbai Indians',\n",
       " 'Chennai Super Kings',\n",
       " 'Kolkata Knight Riders',\n",
       " 'Rajasthan Royals',\n",
       " 'Mumbai Indians',\n",
       " 'Royal Challengers Bengaluru',\n",
       " 'Rajasthan Royals',\n",
       " 'Royal Challengers Bengaluru',\n",
       " 'Chennai Super Kings',\n",
       " 'Mumbai Indians',\n",
       " 'Chennai Super Kings',\n",
       " 'Rajasthan Royals',\n",
       " 'Mumbai Indians',\n",
       " 'Chennai Super Kings',\n",
       " 'Punjab Kings',\n",
       " 'Delhi Capitals',\n",
       " 'Kolkata Knight Riders',\n",
       " 'Kolkata Knight Riders',\n",
       " 'Kolkata Knight Riders',\n",
       " 'Rajasthan Royals',\n",
       " 'Mumbai Indians',\n",
       " 'Mumbai Indians',\n",
       " 'Chennai Super Kings',\n",
       " 'Royal Challengers Bengaluru',\n",
       " 'Rajasthan Royals',\n",
       " 'Mumbai Indians',\n",
       " 'Chennai Super Kings',\n",
       " 'Kolkata Knight Riders',\n",
       " 'Rajasthan Royals',\n",
       " 'Rajasthan Royals',\n",
       " 'Royal Challengers Bengaluru',\n",
       " 'Rajasthan Royals',\n",
       " 'Chennai Super Kings',\n",
       " 'Royal Challengers Bengaluru',\n",
       " 'Punjab Kings',\n",
       " 'Punjab Kings',\n",
       " 'Mumbai Indians',\n",
       " 'Rajasthan Royals',\n",
       " 'Mumbai Indians',\n",
       " 'Chennai Super Kings',\n",
       " 'Chennai Super Kings',\n",
       " 'Royal Challengers Bengaluru',\n",
       " 'Mumbai Indians',\n",
       " 'Rajasthan Royals',\n",
       " 'Punjab Kings',\n",
       " 'Mumbai Indians',\n",
       " 'Rajasthan Royals',\n",
       " 'Kolkata Knight Riders',\n",
       " 'Kolkata Knight Riders',\n",
       " 'Rajasthan Royals',\n",
       " 'Punjab Kings',\n",
       " 'Chennai Super Kings',\n",
       " 'Sunrisers Hyderabad',\n",
       " 'Rajasthan Royals',\n",
       " 'Chennai Super Kings',\n",
       " 'Mumbai Indians',\n",
       " 'Kolkata Knight Riders',\n",
       " 'Rajasthan Royals',\n",
       " 'Chennai Super Kings',\n",
       " 'Rajasthan Royals',\n",
       " 'Rajasthan Royals',\n",
       " 'Chennai Super Kings',\n",
       " 'Rajasthan Royals',\n",
       " 'Royal Challengers Bengaluru',\n",
       " 'Chennai Super Kings',\n",
       " 'Sunrisers Hyderabad',\n",
       " 'Chennai Super Kings',\n",
       " 'Kolkata Knight Riders',\n",
       " 'Punjab Kings',\n",
       " 'Kolkata Knight Riders',\n",
       " 'Mumbai Indians',\n",
       " 'Punjab Kings',\n",
       " 'Kolkata Knight Riders',\n",
       " 'Mumbai Indians',\n",
       " 'Sunrisers Hyderabad',\n",
       " 'Chennai Super Kings',\n",
       " 'Kolkata Knight Riders',\n",
       " 'Punjab Kings',\n",
       " 'Mumbai Indians',\n",
       " 'Chennai Super Kings',\n",
       " 'Kolkata Knight Riders',\n",
       " 'Kolkata Knight Riders',\n",
       " 'Chennai Super Kings',\n",
       " 'Royal Challengers Bengaluru',\n",
       " 'Rajasthan Royals',\n",
       " 'Sunrisers Hyderabad',\n",
       " 'Rajasthan Royals',\n",
       " 'Delhi Capitals',\n",
       " 'Kolkata Knight Riders',\n",
       " 'Kolkata Knight Riders',\n",
       " 'Punjab Kings',\n",
       " 'Royal Challengers Bengaluru',\n",
       " 'Mumbai Indians',\n",
       " 'Chennai Super Kings',\n",
       " 'Royal Challengers Bengaluru',\n",
       " 'Kolkata Knight Riders',\n",
       " 'Delhi Capitals',\n",
       " 'Royal Challengers Bengaluru',\n",
       " 'Mumbai Indians',\n",
       " 'Chennai Super Kings',\n",
       " 'Kolkata Knight Riders',\n",
       " 'Sunrisers Hyderabad',\n",
       " 'Royal Challengers Bengaluru',\n",
       " 'Chennai Super Kings',\n",
       " 'Sunrisers Hyderabad',\n",
       " 'Rajasthan Royals',\n",
       " 'Mumbai Indians',\n",
       " 'Royal Challengers Bengaluru',\n",
       " 'Chennai Super Kings',\n",
       " 'Kolkata Knight Riders',\n",
       " 'Gujarat Titans',\n",
       " 'Mumbai Indians',\n",
       " 'Delhi Capitals',\n",
       " 'Gujarat Titans',\n",
       " 'Delhi Capitals',\n",
       " 'Sunrisers Hyderabad',\n",
       " 'Kolkata Knight Riders',\n",
       " 'Mumbai Indians',\n",
       " 'Sunrisers Hyderabad',\n",
       " 'Sunrisers Hyderabad',\n",
       " 'Kolkata Knight Riders',\n",
       " 'Lucknow Super Giants',\n",
       " 'Mumbai Indians',\n",
       " 'Gujarat Titans',\n",
       " 'Mumbai Indians',\n",
       " 'Kolkata Knight Riders',\n",
       " 'Delhi Capitals',\n",
       " 'Lucknow Super Giants',\n",
       " 'Sunrisers Hyderabad',\n",
       " 'Royal Challengers Bengaluru',\n",
       " 'Gujarat Titans',\n",
       " 'Sunrisers Hyderabad',\n",
       " 'Mumbai Indians',\n",
       " 'Delhi Capitals',\n",
       " 'Royal Challengers Bengaluru',\n",
       " 'Lucknow Super Giants',\n",
       " 'Gujarat Titans',\n",
       " 'Delhi Capitals',\n",
       " 'Gujarat Titans',\n",
       " 'Royal Challengers Bengaluru',\n",
       " 'Royal Challengers Bengaluru',\n",
       " 'Sunrisers Hyderabad',\n",
       " 'Sunrisers Hyderabad',\n",
       " 'Lucknow Super Giants',\n",
       " 'Kolkata Knight Riders',\n",
       " 'Punjab Kings',\n",
       " 'Royal Challengers Bengaluru',\n",
       " 'Sunrisers Hyderabad',\n",
       " 'Mumbai Indians',\n",
       " 'Mumbai Indians',\n",
       " 'Kolkata Knight Riders',\n",
       " 'Mumbai Indians',\n",
       " 'Gujarat Titans',\n",
       " 'Delhi Capitals',\n",
       " 'Mumbai Indians',\n",
       " 'Sunrisers Hyderabad',\n",
       " 'Mumbai Indians',\n",
       " 'Gujarat Titans',\n",
       " 'Lucknow Super Giants',\n",
       " 'Kolkata Knight Riders',\n",
       " 'Gujarat Titans',\n",
       " 'Kolkata Knight Riders',\n",
       " 'Punjab Kings',\n",
       " 'Lucknow Super Giants',\n",
       " 'Delhi Capitals',\n",
       " 'Lucknow Super Giants',\n",
       " 'Delhi Capitals',\n",
       " 'Kolkata Knight Riders',\n",
       " 'Gujarat Titans',\n",
       " 'Delhi Capitals',\n",
       " 'Delhi Capitals',\n",
       " 'Sunrisers Hyderabad',\n",
       " 'Lucknow Super Giants',\n",
       " 'Royal Challengers Bengaluru',\n",
       " 'Kolkata Knight Riders',\n",
       " 'Mumbai Indians',\n",
       " 'Mumbai Indians',\n",
       " 'Chennai Super Kings',\n",
       " 'Punjab Kings',\n",
       " 'Kolkata Knight Riders',\n",
       " 'Sunrisers Hyderabad',\n",
       " 'Chennai Super Kings',\n",
       " 'Sunrisers Hyderabad',\n",
       " 'Royal Challengers Bengaluru',\n",
       " 'Delhi Capitals',\n",
       " 'Sunrisers Hyderabad',\n",
       " 'Kolkata Knight Riders',\n",
       " 'Punjab Kings',\n",
       " 'Punjab Kings',\n",
       " 'Royal Challengers Bengaluru',\n",
       " 'Chennai Super Kings',\n",
       " 'Mumbai Indians',\n",
       " 'Sunrisers Hyderabad',\n",
       " 'Kolkata Knight Riders',\n",
       " 'Kolkata Knight Riders',\n",
       " 'Mumbai Indians',\n",
       " 'Chennai Super Kings',\n",
       " 'Punjab Kings',\n",
       " 'Rajasthan Royals',\n",
       " 'Royal Challengers Bengaluru',\n",
       " 'Chennai Super Kings',\n",
       " 'Rajasthan Royals',\n",
       " 'Royal Challengers Bengaluru',\n",
       " 'Kolkata Knight Riders',\n",
       " 'Rajasthan Royals',\n",
       " 'Delhi Capitals',\n",
       " 'Chennai Super Kings',\n",
       " 'Chennai Super Kings',\n",
       " 'Chennai Super Kings',\n",
       " 'Chennai Super Kings',\n",
       " 'Kolkata Knight Riders',\n",
       " 'Punjab Kings',\n",
       " 'Delhi Capitals',\n",
       " 'Rajasthan Royals',\n",
       " 'Sunrisers Hyderabad',\n",
       " 'Kolkata Knight Riders',\n",
       " 'Chennai Super Kings',\n",
       " 'Delhi Capitals',\n",
       " 'Kolkata Knight Riders',\n",
       " 'Punjab Kings',\n",
       " 'Chennai Super Kings',\n",
       " 'Mumbai Indians',\n",
       " 'Chennai Super Kings',\n",
       " 'Delhi Capitals',\n",
       " 'Rajasthan Royals',\n",
       " 'Royal Challengers Bengaluru',\n",
       " 'Chennai Super Kings',\n",
       " 'Mumbai Indians',\n",
       " 'Mumbai Indians',\n",
       " 'Rajasthan Royals',\n",
       " 'Delhi Capitals',\n",
       " 'Sunrisers Hyderabad',\n",
       " 'Delhi Capitals',\n",
       " 'Chennai Super Kings',\n",
       " 'Rajasthan Royals',\n",
       " 'Rajasthan Royals',\n",
       " 'Delhi Capitals',\n",
       " 'Mumbai Indians',\n",
       " 'Kolkata Knight Riders',\n",
       " 'Royal Challengers Bengaluru',\n",
       " 'Punjab Kings',\n",
       " 'Mumbai Indians',\n",
       " 'Delhi Capitals',\n",
       " 'Chennai Super Kings',\n",
       " 'Mumbai Indians',\n",
       " 'Chennai Super Kings',\n",
       " 'Mumbai Indians',\n",
       " 'Kolkata Knight Riders',\n",
       " 'Kolkata Knight Riders',\n",
       " 'Mumbai Indians',\n",
       " 'Rajasthan Royals',\n",
       " 'Chennai Super Kings',\n",
       " 'Delhi Capitals',\n",
       " 'Sunrisers Hyderabad',\n",
       " 'Delhi Capitals',\n",
       " 'Royal Challengers Bengaluru',\n",
       " 'Delhi Capitals',\n",
       " 'Rajasthan Royals',\n",
       " 'Chennai Super Kings',\n",
       " 'Mumbai Indians',\n",
       " 'Royal Challengers Bengaluru',\n",
       " 'Delhi Capitals',\n",
       " 'Royal Challengers Bengaluru',\n",
       " 'Punjab Kings',\n",
       " 'Rajasthan Royals',\n",
       " 'Chennai Super Kings',\n",
       " 'Delhi Capitals',\n",
       " 'Kolkata Knight Riders',\n",
       " 'Mumbai Indians',\n",
       " 'Delhi Capitals',\n",
       " 'Mumbai Indians',\n",
       " 'Delhi Capitals',\n",
       " 'Chennai Super Kings',\n",
       " 'Kolkata Knight Riders',\n",
       " 'Chennai Super Kings',\n",
       " 'Kolkata Knight Riders',\n",
       " 'Mumbai Indians',\n",
       " 'Royal Challengers Bengaluru',\n",
       " 'Chennai Super Kings',\n",
       " 'Punjab Kings',\n",
       " 'Rajasthan Royals',\n",
       " 'Delhi Capitals',\n",
       " 'Royal Challengers Bengaluru',\n",
       " 'Delhi Capitals',\n",
       " 'Mumbai Indians',\n",
       " 'Punjab Kings',\n",
       " 'Mumbai Indians',\n",
       " 'Royal Challengers Bengaluru',\n",
       " 'Chennai Super Kings',\n",
       " 'Kolkata Knight Riders',\n",
       " 'Kolkata Knight Riders',\n",
       " 'Delhi Capitals',\n",
       " 'Punjab Kings',\n",
       " 'Gujarat Titans',\n",
       " 'Royal Challengers Bengaluru',\n",
       " 'Lucknow Super Giants',\n",
       " 'Kolkata Knight Riders',\n",
       " 'Royal Challengers Bengaluru',\n",
       " 'Kolkata Knight Riders',\n",
       " 'Lucknow Super Giants',\n",
       " 'Gujarat Titans',\n",
       " 'Sunrisers Hyderabad',\n",
       " 'Royal Challengers Bengaluru',\n",
       " 'Sunrisers Hyderabad',\n",
       " 'Sunrisers Hyderabad',\n",
       " 'Sunrisers Hyderabad',\n",
       " 'Gujarat Titans',\n",
       " 'Delhi Capitals',\n",
       " 'Chennai Super Kings',\n",
       " 'Gujarat Titans',\n",
       " 'Sunrisers Hyderabad',\n",
       " 'Gujarat Titans',\n",
       " 'Delhi Capitals',\n",
       " 'Mumbai Indians',\n",
       " 'Lucknow Super Giants',\n",
       " 'Kolkata Knight Riders',\n",
       " 'Royal Challengers Bengaluru',\n",
       " 'Gujarat Titans',\n",
       " 'Delhi Capitals',\n",
       " 'Mumbai Indians',\n",
       " 'Kolkata Knight Riders',\n",
       " 'Rajasthan Royals',\n",
       " 'Lucknow Super Giants',\n",
       " 'Mumbai Indians',\n",
       " 'Gujarat Titans',\n",
       " 'Rajasthan Royals',\n",
       " 'Gujarat Titans',\n",
       " 'Royal Challengers Bengaluru',\n",
       " 'Gujarat Titans',\n",
       " 'Chennai Super Kings',\n",
       " 'Sunrisers Hyderabad',\n",
       " 'Lucknow Super Giants',\n",
       " 'Mumbai Indians',\n",
       " 'Gujarat Titans',\n",
       " 'Punjab Kings',\n",
       " 'Mumbai Indians',\n",
       " 'Rajasthan Royals',\n",
       " 'Delhi Capitals',\n",
       " 'Chennai Super Kings',\n",
       " 'Gujarat Titans',\n",
       " 'Delhi Capitals',\n",
       " 'Rajasthan Royals',\n",
       " 'Gujarat Titans',\n",
       " 'Sunrisers Hyderabad',\n",
       " 'Royal Challengers Bengaluru',\n",
       " 'Delhi Capitals',\n",
       " 'Mumbai Indians',\n",
       " 'Kolkata Knight Riders',\n",
       " 'Chennai Super Kings',\n",
       " 'Mumbai Indians',\n",
       " 'Chennai Super Kings',\n",
       " 'Rajasthan Royals',\n",
       " 'Royal Challengers Bengaluru',\n",
       " 'Royal Challengers Bengaluru',\n",
       " 'Rajasthan Royals',\n",
       " 'Chennai Super Kings',\n",
       " 'Mumbai Indians',\n",
       " 'Gujarat Titans',\n",
       " 'Mumbai Indians',\n",
       " 'Chennai Super Kings',\n",
       " 'Punjab Kings',\n",
       " 'Rajasthan Royals',\n",
       " 'Royal Challengers Bengaluru',\n",
       " 'Kolkata Knight Riders',\n",
       " 'Lucknow Super Giants',\n",
       " 'Delhi Capitals',\n",
       " 'Rajasthan Royals',\n",
       " 'Kolkata Knight Riders',\n",
       " 'Punjab Kings',\n",
       " 'Sunrisers Hyderabad',\n",
       " 'Rajasthan Royals',\n",
       " 'Lucknow Super Giants',\n",
       " 'Chennai Super Kings',\n",
       " 'Gujarat Titans',\n",
       " 'Mumbai Indians',\n",
       " 'Rajasthan Royals',\n",
       " 'Kolkata Knight Riders',\n",
       " 'Rajasthan Royals',\n",
       " 'Delhi Capitals',\n",
       " 'Lucknow Super Giants',\n",
       " 'Lucknow Super Giants',\n",
       " 'Royal Challengers Bengaluru',\n",
       " 'Punjab Kings',\n",
       " 'Rajasthan Royals',\n",
       " 'Royal Challengers Bengaluru',\n",
       " 'Lucknow Super Giants',\n",
       " 'Punjab Kings',\n",
       " 'Sunrisers Hyderabad',\n",
       " 'Royal Challengers Bengaluru',\n",
       " 'Mumbai Indians',\n",
       " 'Rajasthan Royals']"
      ]
     },
     "execution_count": 51,
     "metadata": {},
     "output_type": "execute_result"
    }
   ],
   "source": [
    "toss_and_match_winner"
   ]
  },
  {
   "cell_type": "code",
   "execution_count": 52,
   "metadata": {},
   "outputs": [],
   "source": [
    "toss_and_match_winner_df  = pd.DataFrame(toss_and_match_winner)"
   ]
  },
  {
   "cell_type": "code",
   "execution_count": 53,
   "metadata": {},
   "outputs": [
    {
     "data": {
      "text/html": [
       "<div>\n",
       "<style scoped>\n",
       "    .dataframe tbody tr th:only-of-type {\n",
       "        vertical-align: middle;\n",
       "    }\n",
       "\n",
       "    .dataframe tbody tr th {\n",
       "        vertical-align: top;\n",
       "    }\n",
       "\n",
       "    .dataframe thead th {\n",
       "        text-align: right;\n",
       "    }\n",
       "</style>\n",
       "<table border=\"1\" class=\"dataframe\">\n",
       "  <thead>\n",
       "    <tr style=\"text-align: right;\">\n",
       "      <th></th>\n",
       "      <th>0</th>\n",
       "    </tr>\n",
       "  </thead>\n",
       "  <tbody>\n",
       "    <tr>\n",
       "      <th>0</th>\n",
       "      <td>Chennai Super Kings</td>\n",
       "    </tr>\n",
       "    <tr>\n",
       "      <th>1</th>\n",
       "      <td>Rajasthan Royals</td>\n",
       "    </tr>\n",
       "    <tr>\n",
       "      <th>2</th>\n",
       "      <td>Rajasthan Royals</td>\n",
       "    </tr>\n",
       "    <tr>\n",
       "      <th>3</th>\n",
       "      <td>Sunrisers Hyderabad</td>\n",
       "    </tr>\n",
       "    <tr>\n",
       "      <th>4</th>\n",
       "      <td>Chennai Super Kings</td>\n",
       "    </tr>\n",
       "  </tbody>\n",
       "</table>\n",
       "</div>"
      ],
      "text/plain": [
       "                     0\n",
       "0  Chennai Super Kings\n",
       "1     Rajasthan Royals\n",
       "2     Rajasthan Royals\n",
       "3  Sunrisers Hyderabad\n",
       "4  Chennai Super Kings"
      ]
     },
     "execution_count": 53,
     "metadata": {},
     "output_type": "execute_result"
    }
   ],
   "source": [
    "toss_and_match_winner_df.head()"
   ]
  },
  {
   "cell_type": "code",
   "execution_count": null,
   "metadata": {},
   "outputs": [
    {
     "data": {
      "text/plain": [
       "0    537\n",
       "dtype: int64"
      ]
     },
     "execution_count": 54,
     "metadata": {},
     "output_type": "execute_result"
    }
   ],
   "source": [
    "toss_and_match_winner_df.count()"
   ]
  },
  {
   "cell_type": "code",
   "execution_count": 57,
   "metadata": {},
   "outputs": [
    {
     "data": {
      "text/plain": [
       "0                          \n",
       "Mumbai Indians                 75\n",
       "Chennai Super Kings            73\n",
       "Kolkata Knight Riders          68\n",
       "Rajasthan Royals               65\n",
       "Delhi Capitals                 60\n",
       "Royal Challengers Bengaluru    57\n",
       "Sunrisers Hyderabad            51\n",
       "Punjab Kings                   42\n",
       "Gujarat Titans                 24\n",
       "Lucknow Super Giants           18\n",
       "Kochi Tuskers Kerala            4\n",
       "Name: count, dtype: int64"
      ]
     },
     "execution_count": 57,
     "metadata": {},
     "output_type": "execute_result"
    }
   ],
   "source": [
    "toss_and_match_winner_df.value_counts()"
   ]
  },
  {
   "cell_type": "code",
   "execution_count": 66,
   "metadata": {},
   "outputs": [
    {
     "data": {
      "image/png": "[encoded data removed]",
      "text/plain": [
       "<Figure size 800x600 with 1 Axes>"
      ]
     },
     "metadata": {},
     "output_type": "display_data"
    }
   ],
   "source": [
    "plt.figure(figsize=(8, 6))\n",
    "plt.bar(toss_and_match_winner_df[0].value_counts().index, toss_and_match_winner_df[0].value_counts().values)\n",
    "plt.title(\"Teams who won match and toss\")\n",
    "plt.xticks(rotation = 80)\n",
    "plt.show()"
   ]
  },
  {
   "cell_type": "code",
   "execution_count": 83,
   "metadata": {},
   "outputs": [
    {
     "data": {
      "text/plain": [
       "toss_decision\n",
       "field    670\n",
       "bat      369\n",
       "Name: count, dtype: int64"
      ]
     },
     "execution_count": 83,
     "metadata": {},
     "output_type": "execute_result"
    }
   ],
   "source": [
    "data['toss_decision'].value_counts()"
   ]
  },
  {
   "cell_type": "code",
   "execution_count": 87,
   "metadata": {},
   "outputs": [
    {
     "name": "stderr",
     "output_type": "stream",
     "text": [
      "C:\\Users\\Asus\\AppData\\Local\\Temp\\ipykernel_12268\\3539312044.py:1: FutureWarning: Downcasting behavior in `replace` is deprecated and will be removed in a future version. To retain the old behavior, explicitly call `result.infer_objects(copy=False)`. To opt-in to the future behavior, set `pd.set_option('future.no_silent_downcasting', True)`\n",
      "  data['toss_decision'].replace({'field':0, 'bat':1}, inplace=True)\n",
      "C:\\Users\\Asus\\AppData\\Local\\Temp\\ipykernel_12268\\3539312044.py:1: SettingWithCopyWarning: \n",
      "A value is trying to be set on a copy of a slice from a DataFrame\n",
      "\n",
      "See the caveats in the documentation: https://pandas.pydata.org/pandas-docs/stable/user_guide/indexing.html#returning-a-view-versus-a-copy\n",
      "  data['toss_decision'].replace({'field':0, 'bat':1}, inplace=True)\n"
     ]
    }
   ],
   "source": [
    "data['toss_decision'].replace({'field':0, 'bat':1}, inplace=True)"
   ]
  },
  {
   "cell_type": "code",
   "execution_count": 122,
   "metadata": {},
   "outputs": [],
   "source": [
    "from sklearn.preprocessing  import LabelEncoder\n",
    "from sklearn.linear_model import  LogisticRegression\n",
    "from sklearn.ensemble import RandomForestClassifier\n",
    "from xgboost import  XGBClassifier\n",
    "from sklearn.ensemble import GradientBoostingClassifier\n",
    "from sklearn.model_selection import train_test_split, RandomizedSearchCV\n",
    "from sklearn.metrics import accuracy_score\n",
    "from sklearn.tree import DecisionTreeClassifier"
   ]
  },
  {
   "cell_type": "code",
   "execution_count": 90,
   "metadata": {},
   "outputs": [],
   "source": [
    "X = data.drop(columns=['winner', 'match_type'])\n",
    "y = data['winner']"
   ]
  },
  {
   "cell_type": "code",
   "execution_count": 91,
   "metadata": {},
   "outputs": [
    {
     "data": {
      "text/plain": [
       "(1039, 6)"
      ]
     },
     "execution_count": 91,
     "metadata": {},
     "output_type": "execute_result"
    }
   ],
   "source": [
    "X.shape"
   ]
  },
  {
   "cell_type": "code",
   "execution_count": 92,
   "metadata": {},
   "outputs": [],
   "source": [
    "X_train, X_test, y_train, y_test = train_test_split(X, y ,test_size=0.2, stratify=y)"
   ]
  },
  {
   "cell_type": "code",
   "execution_count": 93,
   "metadata": {},
   "outputs": [
    {
     "name": "stdout",
     "output_type": "stream",
     "text": [
      "(831, 6) (208, 6)\n"
     ]
    }
   ],
   "source": [
    "print(X_train.shape, X_test.shape)"
   ]
  },
  {
   "cell_type": "code",
   "execution_count": 94,
   "metadata": {},
   "outputs": [
    {
     "name": "stdout",
     "output_type": "stream",
     "text": [
      "(831,) (208,)\n"
     ]
    }
   ],
   "source": [
    "print(y_train.shape, y_test.shape)"
   ]
  },
  {
   "cell_type": "code",
   "execution_count": 96,
   "metadata": {},
   "outputs": [
    {
     "data": {
      "text/html": [
       "<div>\n",
       "<style scoped>\n",
       "    .dataframe tbody tr th:only-of-type {\n",
       "        vertical-align: middle;\n",
       "    }\n",
       "\n",
       "    .dataframe tbody tr th {\n",
       "        vertical-align: top;\n",
       "    }\n",
       "\n",
       "    .dataframe thead th {\n",
       "        text-align: right;\n",
       "    }\n",
       "</style>\n",
       "<table border=\"1\" class=\"dataframe\">\n",
       "  <thead>\n",
       "    <tr style=\"text-align: right;\">\n",
       "      <th></th>\n",
       "      <th>city</th>\n",
       "      <th>venue</th>\n",
       "      <th>team1</th>\n",
       "      <th>team2</th>\n",
       "      <th>toss_winner</th>\n",
       "      <th>toss_decision</th>\n",
       "    </tr>\n",
       "  </thead>\n",
       "  <tbody>\n",
       "    <tr>\n",
       "      <th>57</th>\n",
       "      <td>Mumbai</td>\n",
       "      <td>Dr DY Patil Sports Academy</td>\n",
       "      <td>Chennai Super Kings</td>\n",
       "      <td>Rajasthan Royals</td>\n",
       "      <td>Rajasthan Royals</td>\n",
       "      <td>0</td>\n",
       "    </tr>\n",
       "    <tr>\n",
       "      <th>369</th>\n",
       "      <td>Hyderabad</td>\n",
       "      <td>Rajiv Gandhi International Stadium, Uppal</td>\n",
       "      <td>Sunrisers Hyderabad</td>\n",
       "      <td>Delhi Capitals</td>\n",
       "      <td>Delhi Capitals</td>\n",
       "      <td>1</td>\n",
       "    </tr>\n",
       "    <tr>\n",
       "      <th>296</th>\n",
       "      <td>Delhi</td>\n",
       "      <td>Feroz Shah Kotla</td>\n",
       "      <td>Delhi Capitals</td>\n",
       "      <td>Kolkata Knight Riders</td>\n",
       "      <td>Delhi Capitals</td>\n",
       "      <td>1</td>\n",
       "    </tr>\n",
       "    <tr>\n",
       "      <th>933</th>\n",
       "      <td>Navi Mumbai</td>\n",
       "      <td>Dr DY Patil Sports Academy, Mumbai</td>\n",
       "      <td>Rajasthan Royals</td>\n",
       "      <td>Delhi Capitals</td>\n",
       "      <td>Delhi Capitals</td>\n",
       "      <td>0</td>\n",
       "    </tr>\n",
       "    <tr>\n",
       "      <th>860</th>\n",
       "      <td>Dubai</td>\n",
       "      <td>Dubai International Cricket Stadium</td>\n",
       "      <td>Kolkata Knight Riders</td>\n",
       "      <td>Punjab Kings</td>\n",
       "      <td>Punjab Kings</td>\n",
       "      <td>0</td>\n",
       "    </tr>\n",
       "  </tbody>\n",
       "</table>\n",
       "</div>"
      ],
      "text/plain": [
       "            city                                      venue  \\\n",
       "57        Mumbai                 Dr DY Patil Sports Academy   \n",
       "369    Hyderabad  Rajiv Gandhi International Stadium, Uppal   \n",
       "296        Delhi                           Feroz Shah Kotla   \n",
       "933  Navi Mumbai         Dr DY Patil Sports Academy, Mumbai   \n",
       "860        Dubai        Dubai International Cricket Stadium   \n",
       "\n",
       "                     team1                  team2       toss_winner  \\\n",
       "57     Chennai Super Kings       Rajasthan Royals  Rajasthan Royals   \n",
       "369    Sunrisers Hyderabad         Delhi Capitals    Delhi Capitals   \n",
       "296         Delhi Capitals  Kolkata Knight Riders    Delhi Capitals   \n",
       "933       Rajasthan Royals         Delhi Capitals    Delhi Capitals   \n",
       "860  Kolkata Knight Riders           Punjab Kings      Punjab Kings   \n",
       "\n",
       "     toss_decision  \n",
       "57               0  \n",
       "369              1  \n",
       "296              1  \n",
       "933              0  \n",
       "860              0  "
      ]
     },
     "execution_count": 96,
     "metadata": {},
     "output_type": "execute_result"
    }
   ],
   "source": [
    "X_train.head()"
   ]
  },
  {
   "cell_type": "code",
   "execution_count": 97,
   "metadata": {},
   "outputs": [],
   "source": [
    "encoders = {}\n",
    "cat_col = ['city', 'venue', 'team1', 'team2', 'toss_winner', 'toss_decision']"
   ]
  },
  {
   "cell_type": "code",
   "execution_count": 99,
   "metadata": {},
   "outputs": [],
   "source": [
    "for col in cat_col:\n",
    "    le = LabelEncoder()\n",
    "    X_train[col] = le.fit_transform(X_train[col])\n",
    "    X_test[col] = le.transform(X_test[col])\n",
    "    encoders[col] = le"
   ]
  },
  {
   "cell_type": "code",
   "execution_count": 105,
   "metadata": {},
   "outputs": [],
   "source": [
    "import pickle\n",
    "with open('../models/label_encoder_x.pkl', 'wb') as f:\n",
    "    pickle.dump(encoders, f)"
   ]
  },
  {
   "cell_type": "code",
   "execution_count": 106,
   "metadata": {},
   "outputs": [],
   "source": [
    "le_y = LabelEncoder()"
   ]
  },
  {
   "cell_type": "code",
   "execution_count": null,
   "metadata": {},
   "outputs": [],
   "source": [
    "y_train = le_y.fit_transform(y_train)"
   ]
  },
  {
   "cell_type": "code",
   "execution_count": 109,
   "metadata": {},
   "outputs": [],
   "source": [
    "y_test = le_y.transform(y_test)"
   ]
  },
  {
   "cell_type": "code",
   "execution_count": 111,
   "metadata": {},
   "outputs": [],
   "source": [
    "with open('../models/label_encoder_y.pkl', 'wb') as f:\n",
    "    pickle.dump(le_y, f)"
   ]
  },
  {
   "cell_type": "code",
   "execution_count": 110,
   "metadata": {},
   "outputs": [
    {
     "data": {
      "text/html": [
       "<div>\n",
       "<style scoped>\n",
       "    .dataframe tbody tr th:only-of-type {\n",
       "        vertical-align: middle;\n",
       "    }\n",
       "\n",
       "    .dataframe tbody tr th {\n",
       "        vertical-align: top;\n",
       "    }\n",
       "\n",
       "    .dataframe thead th {\n",
       "        text-align: right;\n",
       "    }\n",
       "</style>\n",
       "<table border=\"1\" class=\"dataframe\">\n",
       "  <thead>\n",
       "    <tr style=\"text-align: right;\">\n",
       "      <th></th>\n",
       "      <th>city</th>\n",
       "      <th>venue</th>\n",
       "      <th>team1</th>\n",
       "      <th>team2</th>\n",
       "      <th>toss_winner</th>\n",
       "      <th>toss_decision</th>\n",
       "    </tr>\n",
       "  </thead>\n",
       "  <tbody>\n",
       "    <tr>\n",
       "      <th>57</th>\n",
       "      <td>26</td>\n",
       "      <td>9</td>\n",
       "      <td>0</td>\n",
       "      <td>8</td>\n",
       "      <td>8</td>\n",
       "      <td>0</td>\n",
       "    </tr>\n",
       "    <tr>\n",
       "      <th>369</th>\n",
       "      <td>16</td>\n",
       "      <td>42</td>\n",
       "      <td>10</td>\n",
       "      <td>1</td>\n",
       "      <td>1</td>\n",
       "      <td>1</td>\n",
       "    </tr>\n",
       "    <tr>\n",
       "      <th>296</th>\n",
       "      <td>10</td>\n",
       "      <td>16</td>\n",
       "      <td>1</td>\n",
       "      <td>4</td>\n",
       "      <td>1</td>\n",
       "      <td>1</td>\n",
       "    </tr>\n",
       "    <tr>\n",
       "      <th>933</th>\n",
       "      <td>28</td>\n",
       "      <td>10</td>\n",
       "      <td>8</td>\n",
       "      <td>1</td>\n",
       "      <td>1</td>\n",
       "      <td>0</td>\n",
       "    </tr>\n",
       "    <tr>\n",
       "      <th>860</th>\n",
       "      <td>12</td>\n",
       "      <td>13</td>\n",
       "      <td>4</td>\n",
       "      <td>7</td>\n",
       "      <td>7</td>\n",
       "      <td>0</td>\n",
       "    </tr>\n",
       "  </tbody>\n",
       "</table>\n",
       "</div>"
      ],
      "text/plain": [
       "     city  venue  team1  team2  toss_winner  toss_decision\n",
       "57     26      9      0      8            8              0\n",
       "369    16     42     10      1            1              1\n",
       "296    10     16      1      4            1              1\n",
       "933    28     10      8      1            1              0\n",
       "860    12     13      4      7            7              0"
      ]
     },
     "execution_count": 110,
     "metadata": {},
     "output_type": "execute_result"
    }
   ],
   "source": [
    "X_train.head()"
   ]
  },
  {
   "cell_type": "code",
   "execution_count": 125,
   "metadata": {},
   "outputs": [
    {
     "ename": "TypeError",
     "evalue": "RandomForestClassifier.__init__() got an unexpected keyword argument 'max_iter'",
     "output_type": "error",
     "traceback": [
      "\u001b[31m---------------------------------------------------------------------------\u001b[39m",
      "\u001b[31mTypeError\u001b[39m                                 Traceback (most recent call last)",
      "\u001b[36mCell\u001b[39m\u001b[36m \u001b[39m\u001b[32mIn[125]\u001b[39m\u001b[32m, line 3\u001b[39m\n\u001b[32m      1\u001b[39m models = {\n\u001b[32m      2\u001b[39m     \u001b[33m\"\u001b[39m\u001b[33mLogistic regression\u001b[39m\u001b[33m\"\u001b[39m : LogisticRegression(max_iter=\u001b[32m250\u001b[39m), \n\u001b[32m----> \u001b[39m\u001b[32m3\u001b[39m     \u001b[33m\"\u001b[39m\u001b[33mRandom Tree Classifier\u001b[39m\u001b[33m\"\u001b[39m : \u001b[43mRandomForestClassifier\u001b[49m\u001b[43m(\u001b[49m\u001b[43mmax_iter\u001b[49m\u001b[43m \u001b[49m\u001b[43m=\u001b[49m\u001b[43m \u001b[49m\u001b[32;43m200\u001b[39;49m\u001b[43m)\u001b[49m,\n\u001b[32m      4\u001b[39m     \u001b[33m\"\u001b[39m\u001b[33mXGBClassifier\u001b[39m\u001b[33m\"\u001b[39m: XGBClassifier(),\n\u001b[32m      5\u001b[39m     \u001b[33m\"\u001b[39m\u001b[33mGradientBoostingClassifier\u001b[39m\u001b[33m\"\u001b[39m : GradientBoostingClassifier(), \n\u001b[32m      6\u001b[39m     \u001b[33m\"\u001b[39m\u001b[33mDecisionTreeClassifier\u001b[39m\u001b[33m\"\u001b[39m : DecisionTreeClassifier()\n\u001b[32m      7\u001b[39m }\n",
      "\u001b[31mTypeError\u001b[39m: RandomForestClassifier.__init__() got an unexpected keyword argument 'max_iter'"
     ]
    }
   ],
   "source": [
    "models = {\n",
    "    \"Logistic regression\" : LogisticRegression(max_iter=250), \n",
    "    \"Random Tree Classifier\" : RandomForestClassifier(max_iter = 200),\n",
    "    \"XGBClassifier\": XGBClassifier(),\n",
    "    \"GradientBoostingClassifier\" : GradientBoostingClassifier(), \n",
    "    \"DecisionTreeClassifier\" : DecisionTreeClassifier()\n",
    "}"
   ]
  },
  {
   "cell_type": "code",
   "execution_count": 126,
   "metadata": {},
   "outputs": [
    {
     "name": "stdout",
     "output_type": "stream",
     "text": [
      "Logistic regression\n"
     ]
    },
    {
     "name": "stderr",
     "output_type": "stream",
     "text": [
      "f:\\Ipl data analysis\\iplenv\\Lib\\site-packages\\sklearn\\linear_model\\_logistic.py:465: ConvergenceWarning: lbfgs failed to converge (status=1):\n",
      "STOP: TOTAL NO. OF ITERATIONS REACHED LIMIT.\n",
      "\n",
      "Increase the number of iterations (max_iter) or scale the data as shown in:\n",
      "    https://scikit-learn.org/stable/modules/preprocessing.html\n",
      "Please also refer to the documentation for alternative solver options:\n",
      "    https://scikit-learn.org/stable/modules/linear_model.html#logistic-regression\n",
      "  n_iter_i = _check_optimize_result(\n"
     ]
    },
    {
     "name": "stdout",
     "output_type": "stream",
     "text": [
      "train_accuracy:0.3008423586040915\n",
      "train_accuracy:0.28846153846153844\n",
      "--------------------------------------------------\n",
      "Random Tree Classifier\n",
      "train_accuracy:0.9193742478941035\n",
      "train_accuracy:0.46153846153846156\n",
      "--------------------------------------------------\n",
      "XGBClassifier\n",
      "train_accuracy:0.9193742478941035\n",
      "train_accuracy:0.41346153846153844\n",
      "--------------------------------------------------\n",
      "GradientBoostingClassifier\n",
      "train_accuracy:0.8868832731648616\n",
      "train_accuracy:0.42788461538461536\n",
      "--------------------------------------------------\n",
      "DecisionTreeClassifier\n",
      "train_accuracy:0.9193742478941035\n",
      "train_accuracy:0.4182692307692308\n",
      "--------------------------------------------------\n"
     ]
    }
   ],
   "source": [
    "for name, model in models.items():\n",
    "    print(name)\n",
    "    model.fit(X_train, y_train)\n",
    "    X_train_pred = model.predict(X_train)\n",
    "    print(f\"train_accuracy:{accuracy_score(X_train_pred, y_train)}\")\n",
    "    X_test_pred = model.predict(X_test)\n",
    "    print(f\"train_accuracy:{accuracy_score(X_test_pred, y_test)}\")\n",
    "    print(\"-\"*50)"
   ]
  },
  {
   "cell_type": "code",
   "execution_count": null,
   "metadata": {},
   "outputs": [],
   "source": []
  }
 ],
 "metadata": {
  "kernelspec": {
   "display_name": "iplenv",
   "language": "python",
   "name": "python3"
  },
  "language_info": {
   "codemirror_mode": {
    "name": "ipython",
    "version": 3
   },
   "file_extension": ".py",
   "mimetype": "text/x-python",
   "name": "python",
   "nbconvert_exporter": "python",
   "pygments_lexer": "ipython3",
   "version": "3.11.0"
  }
 },
 "nbformat": 4,
 "nbformat_minor": 2
}
